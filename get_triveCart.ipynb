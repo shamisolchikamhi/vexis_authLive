{
 "cells": [
  {
   "cell_type": "code",
   "id": "initial_id",
   "metadata": {
    "collapsed": true,
    "ExecuteTime": {
     "end_time": "2025-02-28T18:21:44.424130Z",
     "start_time": "2025-02-28T18:21:41.323855Z"
    }
   },
   "source": [
    "import pandas as pd\n",
    "import time\n",
    "import io\n",
    "from api_request_funtions import ApiGet\n",
    "from bq_transfers import BqDataTransfers \n",
    "from main import fetch_and_save"
   ],
   "outputs": [
    {
     "name": "stderr",
     "output_type": "stream",
     "text": [
      "/Users/shami/personal_projects/vexis_authLive/.venv/lib/python3.9/site-packages/urllib3/__init__.py:35: NotOpenSSLWarning: urllib3 v2 only supports OpenSSL 1.1.1+, currently the 'ssl' module is compiled with 'LibreSSL 2.8.3'. See: https://github.com/urllib3/urllib3/issues/3020\n",
      "  warnings.warn(\n"
     ]
    }
   ],
   "execution_count": 1
  },
  {
   "metadata": {
    "ExecuteTime": {
     "end_time": "2025-02-28T18:21:44.451587Z",
     "start_time": "2025-02-28T18:21:44.446031Z"
    }
   },
   "cell_type": "code",
   "source": [
    "thrivecart_get = ApiGet(http='thrivecart.com', api_key='TZ5TJYBR-FDB85IBI-0RFTB00N-VQ7ZFY2S')\n",
    "thrivecart_save = BqDataTransfers(gcp_project_id= 'arboreal-cat-451816-n0', bq_data_set = 'thrive_cart')\n",
    "bq_client = thrivecart_save.get_bq_client(\"/Users/shami/Library/Mobile Documents/com~apple~CloudDocs/Personal Projects/vexis/vexis_bq_writter.json\")"
   ],
   "id": "ae3af2ad50edf3ce",
   "outputs": [],
   "execution_count": 2
  },
  {
   "metadata": {
    "ExecuteTime": {
     "end_time": "2025-02-28T18:28:49.559306Z",
     "start_time": "2025-02-28T18:28:48.493531Z"
    }
   },
   "cell_type": "code",
   "source": [
    "use_ids = []\n",
    "end_piont = '/api/external/products?all=true'\n",
    "end_piont = 'https://thrivecart.com/api/external/products/pricing_options?affiliate_id='\n",
    "if len(use_ids) > 0:\n",
    "    x = thrivecart_get.fetch_data_id(end_point=end_piont, ids=use_ids)\n",
    "else:\n",
    "    x = thrivecart_get.fetch_data(end_point=end_piont)\n",
    "\n",
    "df = thrivecart_get.process_reponse_df(x)\n",
    "df = thrivecart_get.fix_data_types(df)"
   ],
   "id": "845c93c2d128a6ab",
   "outputs": [
    {
     "name": "stderr",
     "output_type": "stream",
     "text": [
      "/Users/shami/personal_projects/vexis_authLive/api_request_funtions.py:75: FutureWarning: errors='ignore' is deprecated and will raise in a future version. Use to_numeric without passing `errors` and catch exceptions explicitly instead\n",
      "  df[col] = pd.to_numeric(df[col], errors='ignore')\n"
     ]
    }
   ],
   "execution_count": 20
  },
  {
   "metadata": {
    "ExecuteTime": {
     "end_time": "2025-02-28T18:28:49.579444Z",
     "start_time": "2025-02-28T18:28:49.575910Z"
    }
   },
   "cell_type": "code",
   "source": "x",
   "id": "ed2fe5c6e298bf95",
   "outputs": [
    {
     "data": {
      "text/plain": [
       "{'error': 'method.exception',\n",
       " 'reason': 'The product ID you provided is not valid.'}"
      ]
     },
     "execution_count": 21,
     "metadata": {},
     "output_type": "execute_result"
    }
   ],
   "execution_count": 21
  },
  {
   "metadata": {
    "ExecuteTime": {
     "end_time": "2025-02-28T18:26:38.514110Z",
     "start_time": "2025-02-28T18:26:38.505957Z"
    }
   },
   "cell_type": "code",
   "source": "df",
   "id": "fc7727f01420bcb5",
   "outputs": [
    {
     "data": {
      "text/plain": [
       "     product_id                                               name  \\\n",
       "0           409  EME Integration Level 2 Practitioner Certifica...   \n",
       "1           407  Geo Love Healing Level 2 Practitioner Certific...   \n",
       "2           406  Geo Love Healing Level 2 Practitioner Certific...   \n",
       "3           405  Geo Love Healing Level 2 Practitioner Certific...   \n",
       "4           403  5-Day Ultimate Healing Virtual Experience (Apr...   \n",
       "..          ...                                                ...   \n",
       "317          11              VIP Day, All Products, Plus Follow Up   \n",
       "318          10                 Authentic Mastery Coaching Package   \n",
       "319           9                Coaching Certification Payment Plan   \n",
       "320           8                     Authentic Living Freedom Event   \n",
       "321           2    3-Day Quantum Shift Experience (May 3 to May 5)   \n",
       "\n",
       "                                     label  \\\n",
       "0                             EME 2 7/2025   \n",
       "1                 Geo 2 7/2025 4555 PIF ST   \n",
       "2                Geo 2 (7/2025) 4555 Split   \n",
       "3                  Geo 2 (7/2025) PIF 4555   \n",
       "4      5 Day Healing Experience April 2025   \n",
       "..                                     ...   \n",
       "317  VIP Day, All Products, Plus Follow Up   \n",
       "318              Authentic mastery program   \n",
       "319    Coaching Certification Payment Plan   \n",
       "320    Authentic Living Acceleration Event   \n",
       "321            3-Day Quantum Shift May 3-5   \n",
       "\n",
       "                                                   url embed_type  status  \\\n",
       "0      https://mandymorris.thrivecart.com/eme-2-72025/   standard       2   \n",
       "1    https://mandymorris.thrivecart.com/geo-2-72025...   standard       2   \n",
       "2    https://mandymorris.thrivecart.com/glh-2-72025...   standard       2   \n",
       "3    https://mandymorris.thrivecart.com/glh-2-72025...   standard       2   \n",
       "4         https://mandymorris.thrivecart.com/0425-5de/   standard       2   \n",
       "..                                                 ...        ...     ...   \n",
       "317  https://mandymorris.thrivecart.com/vip-day-all...   standard       2   \n",
       "318  https://mandymorris.thrivecart.com/authenticma...   standard       2   \n",
       "319  https://mandymorris.thrivecart.com/coaching-ce...   standard       2   \n",
       "320  https://mandymorris.thrivecart.com/authentic-l...   standard       2   \n",
       "321  https://mandymorris.thrivecart.com/quantum-shift/   standard       3   \n",
       "\n",
       "    statusString  type typeString  \n",
       "0           live     1    digital  \n",
       "1           live     1    digital  \n",
       "2           live     1    digital  \n",
       "3           live     1    digital  \n",
       "4           live     1    digital  \n",
       "..           ...   ...        ...  \n",
       "317         live     1    digital  \n",
       "318         live     1    digital  \n",
       "319         live     1    digital  \n",
       "320         live     1    digital  \n",
       "321     disabled     1    digital  \n",
       "\n",
       "[322 rows x 9 columns]"
      ],
      "text/html": [
       "<div>\n",
       "<style scoped>\n",
       "    .dataframe tbody tr th:only-of-type {\n",
       "        vertical-align: middle;\n",
       "    }\n",
       "\n",
       "    .dataframe tbody tr th {\n",
       "        vertical-align: top;\n",
       "    }\n",
       "\n",
       "    .dataframe thead th {\n",
       "        text-align: right;\n",
       "    }\n",
       "</style>\n",
       "<table border=\"1\" class=\"dataframe\">\n",
       "  <thead>\n",
       "    <tr style=\"text-align: right;\">\n",
       "      <th></th>\n",
       "      <th>product_id</th>\n",
       "      <th>name</th>\n",
       "      <th>label</th>\n",
       "      <th>url</th>\n",
       "      <th>embed_type</th>\n",
       "      <th>status</th>\n",
       "      <th>statusString</th>\n",
       "      <th>type</th>\n",
       "      <th>typeString</th>\n",
       "    </tr>\n",
       "  </thead>\n",
       "  <tbody>\n",
       "    <tr>\n",
       "      <th>0</th>\n",
       "      <td>409</td>\n",
       "      <td>EME Integration Level 2 Practitioner Certifica...</td>\n",
       "      <td>EME 2 7/2025</td>\n",
       "      <td>https://mandymorris.thrivecart.com/eme-2-72025/</td>\n",
       "      <td>standard</td>\n",
       "      <td>2</td>\n",
       "      <td>live</td>\n",
       "      <td>1</td>\n",
       "      <td>digital</td>\n",
       "    </tr>\n",
       "    <tr>\n",
       "      <th>1</th>\n",
       "      <td>407</td>\n",
       "      <td>Geo Love Healing Level 2 Practitioner Certific...</td>\n",
       "      <td>Geo 2 7/2025 4555 PIF ST</td>\n",
       "      <td>https://mandymorris.thrivecart.com/geo-2-72025...</td>\n",
       "      <td>standard</td>\n",
       "      <td>2</td>\n",
       "      <td>live</td>\n",
       "      <td>1</td>\n",
       "      <td>digital</td>\n",
       "    </tr>\n",
       "    <tr>\n",
       "      <th>2</th>\n",
       "      <td>406</td>\n",
       "      <td>Geo Love Healing Level 2 Practitioner Certific...</td>\n",
       "      <td>Geo 2 (7/2025) 4555 Split</td>\n",
       "      <td>https://mandymorris.thrivecart.com/glh-2-72025...</td>\n",
       "      <td>standard</td>\n",
       "      <td>2</td>\n",
       "      <td>live</td>\n",
       "      <td>1</td>\n",
       "      <td>digital</td>\n",
       "    </tr>\n",
       "    <tr>\n",
       "      <th>3</th>\n",
       "      <td>405</td>\n",
       "      <td>Geo Love Healing Level 2 Practitioner Certific...</td>\n",
       "      <td>Geo 2 (7/2025) PIF 4555</td>\n",
       "      <td>https://mandymorris.thrivecart.com/glh-2-72025...</td>\n",
       "      <td>standard</td>\n",
       "      <td>2</td>\n",
       "      <td>live</td>\n",
       "      <td>1</td>\n",
       "      <td>digital</td>\n",
       "    </tr>\n",
       "    <tr>\n",
       "      <th>4</th>\n",
       "      <td>403</td>\n",
       "      <td>5-Day Ultimate Healing Virtual Experience (Apr...</td>\n",
       "      <td>5 Day Healing Experience April 2025</td>\n",
       "      <td>https://mandymorris.thrivecart.com/0425-5de/</td>\n",
       "      <td>standard</td>\n",
       "      <td>2</td>\n",
       "      <td>live</td>\n",
       "      <td>1</td>\n",
       "      <td>digital</td>\n",
       "    </tr>\n",
       "    <tr>\n",
       "      <th>...</th>\n",
       "      <td>...</td>\n",
       "      <td>...</td>\n",
       "      <td>...</td>\n",
       "      <td>...</td>\n",
       "      <td>...</td>\n",
       "      <td>...</td>\n",
       "      <td>...</td>\n",
       "      <td>...</td>\n",
       "      <td>...</td>\n",
       "    </tr>\n",
       "    <tr>\n",
       "      <th>317</th>\n",
       "      <td>11</td>\n",
       "      <td>VIP Day, All Products, Plus Follow Up</td>\n",
       "      <td>VIP Day, All Products, Plus Follow Up</td>\n",
       "      <td>https://mandymorris.thrivecart.com/vip-day-all...</td>\n",
       "      <td>standard</td>\n",
       "      <td>2</td>\n",
       "      <td>live</td>\n",
       "      <td>1</td>\n",
       "      <td>digital</td>\n",
       "    </tr>\n",
       "    <tr>\n",
       "      <th>318</th>\n",
       "      <td>10</td>\n",
       "      <td>Authentic Mastery Coaching Package</td>\n",
       "      <td>Authentic mastery program</td>\n",
       "      <td>https://mandymorris.thrivecart.com/authenticma...</td>\n",
       "      <td>standard</td>\n",
       "      <td>2</td>\n",
       "      <td>live</td>\n",
       "      <td>1</td>\n",
       "      <td>digital</td>\n",
       "    </tr>\n",
       "    <tr>\n",
       "      <th>319</th>\n",
       "      <td>9</td>\n",
       "      <td>Coaching Certification Payment Plan</td>\n",
       "      <td>Coaching Certification Payment Plan</td>\n",
       "      <td>https://mandymorris.thrivecart.com/coaching-ce...</td>\n",
       "      <td>standard</td>\n",
       "      <td>2</td>\n",
       "      <td>live</td>\n",
       "      <td>1</td>\n",
       "      <td>digital</td>\n",
       "    </tr>\n",
       "    <tr>\n",
       "      <th>320</th>\n",
       "      <td>8</td>\n",
       "      <td>Authentic Living Freedom Event</td>\n",
       "      <td>Authentic Living Acceleration Event</td>\n",
       "      <td>https://mandymorris.thrivecart.com/authentic-l...</td>\n",
       "      <td>standard</td>\n",
       "      <td>2</td>\n",
       "      <td>live</td>\n",
       "      <td>1</td>\n",
       "      <td>digital</td>\n",
       "    </tr>\n",
       "    <tr>\n",
       "      <th>321</th>\n",
       "      <td>2</td>\n",
       "      <td>3-Day Quantum Shift Experience (May 3 to May 5)</td>\n",
       "      <td>3-Day Quantum Shift May 3-5</td>\n",
       "      <td>https://mandymorris.thrivecart.com/quantum-shift/</td>\n",
       "      <td>standard</td>\n",
       "      <td>3</td>\n",
       "      <td>disabled</td>\n",
       "      <td>1</td>\n",
       "      <td>digital</td>\n",
       "    </tr>\n",
       "  </tbody>\n",
       "</table>\n",
       "<p>322 rows × 9 columns</p>\n",
       "</div>"
      ]
     },
     "execution_count": 15,
     "metadata": {},
     "output_type": "execute_result"
    }
   ],
   "execution_count": 15
  },
  {
   "metadata": {},
   "cell_type": "code",
   "outputs": [],
   "execution_count": null,
   "source": "",
   "id": "9f2f011ad99e5a99"
  }
 ],
 "metadata": {
  "kernelspec": {
   "display_name": "Python 3",
   "language": "python",
   "name": "python3"
  },
  "language_info": {
   "codemirror_mode": {
    "name": "ipython",
    "version": 2
   },
   "file_extension": ".py",
   "mimetype": "text/x-python",
   "name": "python",
   "nbconvert_exporter": "python",
   "pygments_lexer": "ipython2",
   "version": "2.7.6"
  }
 },
 "nbformat": 4,
 "nbformat_minor": 5
}
