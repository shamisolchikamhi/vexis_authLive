{
 "cells": [
  {
   "cell_type": "code",
   "id": "initial_id",
   "metadata": {
    "collapsed": true,
    "ExecuteTime": {
     "end_time": "2025-02-28T19:28:50.539047Z",
     "start_time": "2025-02-28T19:28:50.531335Z"
    }
   },
   "source": [
    "import pandas as pd\n",
    "import time\n",
    "import io\n",
    "from api_request_funtions import ApiGet\n",
    "from bq_transfers import BqDataTransfers \n",
    "from main import fetch_and_save\n",
    "import json"
   ],
   "outputs": [],
   "execution_count": 26
  },
  {
   "metadata": {
    "ExecuteTime": {
     "end_time": "2025-02-28T19:26:05.788677Z",
     "start_time": "2025-02-28T19:26:05.749094Z"
    }
   },
   "cell_type": "code",
   "source": [
    "thrivecart_get = ApiGet(http='thrivecart.com', api_key='TZ5TJYBR-FDB85IBI-0RFTB00N-VQ7ZFY2S')\n",
    "thrivecart_save = BqDataTransfers(gcp_project_id= 'arboreal-cat-451816-n0', bq_data_set = 'thrive_cart')\n",
    "bq_client = thrivecart_save.get_bq_client(\"/Users/shami/Library/Mobile Documents/com~apple~CloudDocs/Personal Projects/vexis/vexis_bq_writter.json\")"
   ],
   "id": "ae3af2ad50edf3ce",
   "outputs": [],
   "execution_count": 23
  },
  {
   "metadata": {
    "jupyter": {
     "is_executing": true
    },
    "ExecuteTime": {
     "start_time": "2025-03-01T13:15:00.255305Z"
    }
   },
   "cell_type": "code",
   "source": [
    "# def fetch_transactions(event, context):\n",
    "    # Fetch the total count of transactions from the API\n",
    "x = thrivecart_get.fetch_data(end_point=f'/api/external/transactions?page=0&perPage=0&query=&transactionType=any')\n",
    "total_records_api = x['meta']['total']\n",
    "total_records_bq = bq_client.get_table('thrive_cart.transactions').num_rows\n",
    "\n",
    "# Calculate the difference and determine the number of pages to fetch\n",
    "records_to_fetch = max(0, total_records_api - (total_records_bq + 110000))\n",
    "pages = list(range(1, (records_to_fetch // 100) + 2)) if records_to_fetch > 0 else []\n",
    "print(len(pages))\n",
    "pages = reversed(pages)\n",
    "print(pages)\n",
    "# Fetch new transactions\n",
    "for page in pages:\n",
    "    x = thrivecart_get.fetch_data(\n",
    "        end_point=f'/api/external/transactions?page={page}&perPage=100&query=&transactionType=any'\n",
    "    )\n",
    "    transactions = x.get(\"transactions\", [])\n",
    "\n",
    "    if transactions:\n",
    "        # Convert to NDJSON format\n",
    "        ndjson_lines = \"\\n\".join(json.dumps(transaction) for transaction in transactions)\n",
    "        ndjson_buffer = io.StringIO(ndjson_lines)\n",
    "\n",
    "        # Upload to BigQuery, ensuring no duplicates based on transaction_id\n",
    "        thrivecart_save.start_transfer_json(\n",
    "            bq_client=bq_client,\n",
    "            file=ndjson_buffer,\n",
    "            destination_table='transactions',\n",
    "            write_options='append'\n",
    "        )\n",
    "\n",
    "    time.sleep(0.5)\n"
   ],
   "id": "9f2f011ad99e5a99",
   "outputs": [
    {
     "name": "stdout",
     "output_type": "stream",
     "text": [
      "567\n",
      "<list_reverseiterator object at 0x117145e50>\n"
     ]
    }
   ],
   "execution_count": null
  },
  {
   "metadata": {},
   "cell_type": "code",
   "outputs": [],
   "execution_count": null,
   "source": "",
   "id": "2ec268b95e5b6fec"
  }
 ],
 "metadata": {
  "kernelspec": {
   "display_name": "Python 3",
   "language": "python",
   "name": "python3"
  },
  "language_info": {
   "codemirror_mode": {
    "name": "ipython",
    "version": 2
   },
   "file_extension": ".py",
   "mimetype": "text/x-python",
   "name": "python",
   "nbconvert_exporter": "python",
   "pygments_lexer": "ipython2",
   "version": "2.7.6"
  }
 },
 "nbformat": 4,
 "nbformat_minor": 5
}
