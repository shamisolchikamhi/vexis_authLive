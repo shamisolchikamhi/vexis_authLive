{
 "cells": [
  {
   "cell_type": "code",
   "id": "initial_id",
   "metadata": {
    "collapsed": true,
    "ExecuteTime": {
     "end_time": "2025-02-27T20:10:26.629835Z",
     "start_time": "2025-02-27T20:10:26.624692Z"
    }
   },
   "source": [
    "import pandas as pd\n",
    "import time\n",
    "import io\n",
    "from api_request_funtions import ApiGet\n",
    "from bq_transfers import BqDataTransfers \n",
    "# from main import fetch_and_save"
   ],
   "outputs": [],
   "execution_count": 4
  },
  {
   "metadata": {
    "ExecuteTime": {
     "end_time": "2025-02-27T20:10:28.187066Z",
     "start_time": "2025-02-27T20:10:28.178159Z"
    }
   },
   "cell_type": "code",
   "source": [
    "thrivecart_get = ApiGet(http='thrivecart.com', api_key='TZ5TJYBR-FDB85IBI-0RFTB00N-VQ7ZFY2S')\n",
    "thrivecart_save = BqDataTransfers(gcp_project_id= 'arboreal-cat-451816-n0', bq_data_set = 'thrive_cart')\n",
    "bq_client = thrivecart_save.get_bq_client(\"/Users/shami/Library/Mobile Documents/com~apple~CloudDocs/Personal Projects/vexis/vexis_bq_writter.json\")"
   ],
   "id": "ae3af2ad50edf3ce",
   "outputs": [],
   "execution_count": 5
  },
  {
   "metadata": {
    "ExecuteTime": {
     "end_time": "2025-02-27T20:10:31.812749Z",
     "start_time": "2025-02-27T20:10:29.324045Z"
    }
   },
   "cell_type": "code",
   "source": [
    "# def fetch_transactions(event, context):\n",
    "x = thrivecart_get.fetch_data(end_point=f'/api/external/transactions?page=0&perPage=0&query=&transactionType=any')\n",
    "# pages = list(range(1, round(x['meta']['total'] / 100) + 1))\n",
    "pages = list(range(1, 5))  #limiting to 5 pages for now\n",
    "for page in pages:\n",
    "    x = thrivecart_get.fetch_data(\n",
    "        end_point=f'/api/external/transactions?page={page}&perPage=100&query=&transactionType=any')\n",
    "    ndjson_lines = \"\\n\".join(json.dumps(transaction) for transaction in x[\"transactions\"])\n",
    "    ndjson_buffer = io.StringIO(ndjson_lines)\n",
    "    thrivecart_save.start_transfer_json(bq_client=bq_client, file=ndjson_buffer,\n",
    "                                          destination_table = 'transactions', write_options='append')\n",
    "    time.sleep(0.5)"
   ],
   "id": "53c2e0609516c229",
   "outputs": [
    {
     "ename": "KeyError",
     "evalue": "'transactions'",
     "output_type": "error",
     "traceback": [
      "\u001B[0;31m---------------------------------------------------------------------------\u001B[0m",
      "\u001B[0;31mKeyError\u001B[0m                                  Traceback (most recent call last)",
      "Cell \u001B[0;32mIn[6], line 8\u001B[0m\n\u001B[1;32m      5\u001B[0m \u001B[38;5;28;01mfor\u001B[39;00m page \u001B[38;5;129;01min\u001B[39;00m pages:\n\u001B[1;32m      6\u001B[0m     x \u001B[38;5;241m=\u001B[39m thrivecart_get\u001B[38;5;241m.\u001B[39mfetch_data(\n\u001B[1;32m      7\u001B[0m         end_point\u001B[38;5;241m=\u001B[39m\u001B[38;5;124mf\u001B[39m\u001B[38;5;124m'\u001B[39m\u001B[38;5;124m/api/external/transactions?page=\u001B[39m\u001B[38;5;132;01m{\u001B[39;00mpage\u001B[38;5;132;01m}\u001B[39;00m\u001B[38;5;124m&perPage=100&query=&transactionType=any\u001B[39m\u001B[38;5;124m'\u001B[39m)\n\u001B[0;32m----> 8\u001B[0m     ndjson_lines \u001B[38;5;241m=\u001B[39m \u001B[38;5;124m\"\u001B[39m\u001B[38;5;130;01m\\n\u001B[39;00m\u001B[38;5;124m\"\u001B[39m\u001B[38;5;241m.\u001B[39mjoin(json\u001B[38;5;241m.\u001B[39mdumps(transaction) \u001B[38;5;28;01mfor\u001B[39;00m transaction \u001B[38;5;129;01min\u001B[39;00m \u001B[43mx\u001B[49m\u001B[43m[\u001B[49m\u001B[38;5;124;43m\"\u001B[39;49m\u001B[38;5;124;43mtransactions\u001B[39;49m\u001B[38;5;124;43m\"\u001B[39;49m\u001B[43m]\u001B[49m)\n\u001B[1;32m      9\u001B[0m     ndjson_buffer \u001B[38;5;241m=\u001B[39m io\u001B[38;5;241m.\u001B[39mStringIO(ndjson_lines)\n\u001B[1;32m     10\u001B[0m     thrivecart_save\u001B[38;5;241m.\u001B[39mstart_transfer_json(bq_client\u001B[38;5;241m=\u001B[39mbq_client, file\u001B[38;5;241m=\u001B[39mndjson_buffer,\n\u001B[1;32m     11\u001B[0m                                           destination_table \u001B[38;5;241m=\u001B[39m \u001B[38;5;124m'\u001B[39m\u001B[38;5;124mtransactions\u001B[39m\u001B[38;5;124m'\u001B[39m, write_options\u001B[38;5;241m=\u001B[39m\u001B[38;5;124m'\u001B[39m\u001B[38;5;124mappend\u001B[39m\u001B[38;5;124m'\u001B[39m)\n",
      "\u001B[0;31mKeyError\u001B[0m: 'transactions'"
     ]
    }
   ],
   "execution_count": 6
  },
  {
   "metadata": {
    "ExecuteTime": {
     "end_time": "2025-02-27T20:10:45.485855Z",
     "start_time": "2025-02-27T20:10:45.470445Z"
    }
   },
   "cell_type": "code",
   "source": "x",
   "id": "a3ceaa07f5864d31",
   "outputs": [
    {
     "data": {
      "text/plain": [
       "{'error': 'api.ratelimited',\n",
       " 'reason': 'Your request has been rate limited; please slow down and try again shortly.'}"
      ]
     },
     "execution_count": 7,
     "metadata": {},
     "output_type": "execute_result"
    }
   ],
   "execution_count": 7
  },
  {
   "metadata": {},
   "cell_type": "code",
   "outputs": [],
   "execution_count": null,
   "source": "",
   "id": "845c93c2d128a6ab"
  }
 ],
 "metadata": {
  "kernelspec": {
   "display_name": "Python 3",
   "language": "python",
   "name": "python3"
  },
  "language_info": {
   "codemirror_mode": {
    "name": "ipython",
    "version": 2
   },
   "file_extension": ".py",
   "mimetype": "text/x-python",
   "name": "python",
   "nbconvert_exporter": "python",
   "pygments_lexer": "ipython2",
   "version": "2.7.6"
  }
 },
 "nbformat": 4,
 "nbformat_minor": 5
}
