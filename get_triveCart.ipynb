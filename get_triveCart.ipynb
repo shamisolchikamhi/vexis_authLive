{
 "cells": [
  {
   "cell_type": "code",
   "id": "initial_id",
   "metadata": {
    "collapsed": true,
    "ExecuteTime": {
     "end_time": "2025-02-27T17:57:33.844671Z",
     "start_time": "2025-02-27T17:57:33.226837Z"
    }
   },
   "source": [
    "import pandas as pd\n",
    "\n",
    "from api_request_funtions import ApiGet\n",
    "from bq_transfers import BqDataTransfers \n",
    "from main import fetch_and_save"
   ],
   "outputs": [
    {
     "name": "stderr",
     "output_type": "stream",
     "text": [
      "/Users/shami/personal_projects/vexis_authLive/.venv/lib/python3.9/site-packages/urllib3/__init__.py:35: NotOpenSSLWarning: urllib3 v2 only supports OpenSSL 1.1.1+, currently the 'ssl' module is compiled with 'LibreSSL 2.8.3'. See: https://github.com/urllib3/urllib3/issues/3020\n",
      "  warnings.warn(\n"
     ]
    }
   ],
   "execution_count": 1
  },
  {
   "metadata": {
    "ExecuteTime": {
     "end_time": "2025-02-27T17:57:33.919306Z",
     "start_time": "2025-02-27T17:57:33.913963Z"
    }
   },
   "cell_type": "code",
   "source": [
    "thrivecart_get = ApiGet(http='thrivecart.com', api_key='TZ5TJYBR-FDB85IBI-0RFTB00N-VQ7ZFY2S')\n",
    "thrivecart_save = BqDataTransfers(gcp_project_id= 'arboreal-cat-451816-n0', bq_data_set = 'thrive_cart')\n",
    "bq_client = thrivecart_save.get_bq_client(\"/Users/shami/Library/Mobile Documents/com~apple~CloudDocs/Personal Projects/vexis/vexis_bq_writter.json\")"
   ],
   "id": "ae3af2ad50edf3ce",
   "outputs": [],
   "execution_count": 2
  },
  {
   "metadata": {
    "ExecuteTime": {
     "end_time": "2025-02-27T18:03:29.999769Z",
     "start_time": "2025-02-27T17:57:34.729060Z"
    }
   },
   "cell_type": "code",
   "source": [
    "product_ids = fetch_and_save(end_piont='/api/external/products', destination_table='products', id_col=\"product_id\")\n",
    "# fetch_and_save(end_piont='/api/external/products/{}', destination_table='product_info', use_ids=product_ids)\n",
    "fetch_and_save(end_piont='/api/external/products/{}/pricing_options?affiliate_id=',\n",
    "               destination_table='product_price_details', use_ids=product_ids)"
   ],
   "id": "38c33b8e2b7397ba",
   "outputs": [
    {
     "name": "stderr",
     "output_type": "stream",
     "text": [
      "/Users/shami/personal_projects/vexis_authLive/api_request_funtions.py:73: FutureWarning: errors='ignore' is deprecated and will raise in a future version. Use to_numeric without passing `errors` and catch exceptions explicitly instead\n",
      "  df[col] = pd.to_numeric(df[col], errors='ignore')\n",
      "/Users/shami/personal_projects/vexis_authLive/api_request_funtions.py:73: FutureWarning: errors='ignore' is deprecated and will raise in a future version. Use to_numeric without passing `errors` and catch exceptions explicitly instead\n",
      "  df[col] = pd.to_numeric(df[col], errors='ignore')\n",
      "/Users/shami/personal_projects/vexis_authLive/api_request_funtions.py:73: FutureWarning: errors='ignore' is deprecated and will raise in a future version. Use to_numeric without passing `errors` and catch exceptions explicitly instead\n",
      "  df[col] = pd.to_numeric(df[col], errors='ignore')\n",
      "/Users/shami/personal_projects/vexis_authLive/api_request_funtions.py:73: FutureWarning: errors='ignore' is deprecated and will raise in a future version. Use to_numeric without passing `errors` and catch exceptions explicitly instead\n",
      "  df[col] = pd.to_numeric(df[col], errors='ignore')\n",
      "/Users/shami/personal_projects/vexis_authLive/api_request_funtions.py:73: FutureWarning: errors='ignore' is deprecated and will raise in a future version. Use to_numeric without passing `errors` and catch exceptions explicitly instead\n",
      "  df[col] = pd.to_numeric(df[col], errors='ignore')\n",
      "/Users/shami/personal_projects/vexis_authLive/api_request_funtions.py:73: FutureWarning: errors='ignore' is deprecated and will raise in a future version. Use to_numeric without passing `errors` and catch exceptions explicitly instead\n",
      "  df[col] = pd.to_numeric(df[col], errors='ignore')\n",
      "/Users/shami/personal_projects/vexis_authLive/api_request_funtions.py:73: FutureWarning: errors='ignore' is deprecated and will raise in a future version. Use to_numeric without passing `errors` and catch exceptions explicitly instead\n",
      "  df[col] = pd.to_numeric(df[col], errors='ignore')\n",
      "/Users/shami/personal_projects/vexis_authLive/api_request_funtions.py:73: FutureWarning: errors='ignore' is deprecated and will raise in a future version. Use to_numeric without passing `errors` and catch exceptions explicitly instead\n",
      "  df[col] = pd.to_numeric(df[col], errors='ignore')\n",
      "/Users/shami/personal_projects/vexis_authLive/api_request_funtions.py:73: FutureWarning: errors='ignore' is deprecated and will raise in a future version. Use to_numeric without passing `errors` and catch exceptions explicitly instead\n",
      "  df[col] = pd.to_numeric(df[col], errors='ignore')\n",
      "/Users/shami/personal_projects/vexis_authLive/api_request_funtions.py:73: FutureWarning: errors='ignore' is deprecated and will raise in a future version. Use to_numeric without passing `errors` and catch exceptions explicitly instead\n",
      "  df[col] = pd.to_numeric(df[col], errors='ignore')\n",
      "/Users/shami/personal_projects/vexis_authLive/.venv/lib/python3.9/site-packages/google/cloud/bigquery/_pandas_helpers.py:573: UserWarning: Pyarrow could not determine the type of columns: affiliate_commissions.\n",
      "  warnings.warn(\n"
     ]
    }
   ],
   "execution_count": 3
  },
  {
   "metadata": {},
   "cell_type": "code",
   "source": [
    "use_ids = product_ids\n",
    "end_piont='/api/external/products/{}/pricing_options?affiliate_id='"
   ],
   "id": "d5b103ffaed9657",
   "outputs": [],
   "execution_count": null
  },
  {
   "metadata": {},
   "cell_type": "code",
   "source": [
    "if len(use_ids) > 0:\n",
    "    x = thrivecart_get.fetch_data_id(end_point=end_piont, ids=use_ids)\n",
    "else:\n",
    "    x = thrivecart_get.fetch_data(end_point=end_piont)"
   ],
   "id": "1a2a757fa6236ed5",
   "outputs": [],
   "execution_count": null
  },
  {
   "metadata": {},
   "cell_type": "code",
   "source": [
    "df = thrivecart_get.process_reponse_df()\n",
    "# df = thrivecart_get.fix_data_types(df)"
   ],
   "id": "f98032519c6a44d3",
   "outputs": [],
   "execution_count": null
  },
  {
   "metadata": {},
   "cell_type": "code",
   "source": [
    "y = []\n",
    "for i in x:\n",
    "    if isinstance(i, dict) and i.get(\"error\") == \"Failed to parse JSON response\":\n",
    "        pass\n",
    "    else:\n",
    "        y.append(i)"
   ],
   "id": "5cb48158e1af4181",
   "outputs": [],
   "execution_count": null
  },
  {
   "metadata": {},
   "cell_type": "code",
   "source": "",
   "id": "53c2e0609516c229",
   "outputs": [],
   "execution_count": null
  }
 ],
 "metadata": {
  "kernelspec": {
   "display_name": "Python 3",
   "language": "python",
   "name": "python3"
  },
  "language_info": {
   "codemirror_mode": {
    "name": "ipython",
    "version": 2
   },
   "file_extension": ".py",
   "mimetype": "text/x-python",
   "name": "python",
   "nbconvert_exporter": "python",
   "pygments_lexer": "ipython2",
   "version": "2.7.6"
  }
 },
 "nbformat": 4,
 "nbformat_minor": 5
}
