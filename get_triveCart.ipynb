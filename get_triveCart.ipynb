{
 "cells": [
  {
   "cell_type": "code",
   "id": "initial_id",
   "metadata": {
    "collapsed": true,
    "ExecuteTime": {
     "end_time": "2025-02-28T19:28:50.539047Z",
     "start_time": "2025-02-28T19:28:50.531335Z"
    }
   },
   "source": [
    "import pandas as pd\n",
    "import time\n",
    "import io\n",
    "from api_request_funtions import ApiGet\n",
    "from bq_transfers import BqDataTransfers \n",
    "from main import fetch_and_save\n",
    "import json"
   ],
   "outputs": [],
   "execution_count": 26
  },
  {
   "metadata": {
    "ExecuteTime": {
     "end_time": "2025-02-28T19:26:05.788677Z",
     "start_time": "2025-02-28T19:26:05.749094Z"
    }
   },
   "cell_type": "code",
   "source": [
    "thrivecart_get = ApiGet(http='thrivecart.com', api_key='TZ5TJYBR-FDB85IBI-0RFTB00N-VQ7ZFY2S')\n",
    "thrivecart_save = BqDataTransfers(gcp_project_id= 'arboreal-cat-451816-n0', bq_data_set = 'thrive_cart')\n",
    "bq_client = thrivecart_save.get_bq_client(\"/Users/shami/Library/Mobile Documents/com~apple~CloudDocs/Personal Projects/vexis/vexis_bq_writter.json\")"
   ],
   "id": "ae3af2ad50edf3ce",
   "outputs": [],
   "execution_count": 23
  },
  {
   "metadata": {
    "ExecuteTime": {
     "end_time": "2025-02-28T19:44:59.758691Z",
     "start_time": "2025-02-28T19:29:23.909617Z"
    }
   },
   "cell_type": "code",
   "source": [
    "# def fetch_transactions(event, context):\n",
    "    # Fetch the total count of transactions from the API\n",
    "x = thrivecart_get.fetch_data(end_point=f'/api/external/transactions?page=0&perPage=0&query=&transactionType=any')\n",
    "total_records_api = x['meta']['total']\n",
    "total_records_bq = bq_client.get_table('thrive_cart.transactions').num_rows\n",
    "\n",
    "# Calculate the difference and determine the number of pages to fetch\n",
    "records_to_fetch = max(0, total_records_api - total_records_bq)\n",
    "pages = list(range(1, (records_to_fetch // 100) + 2)) if records_to_fetch > 0 else []\n",
    "\n",
    "# Fetch new transactions\n",
    "for page in pages:\n",
    "    x = thrivecart_get.fetch_data(\n",
    "        end_point=f'/api/external/transactions?page={page}&perPage=100&query=&transactionType=any'\n",
    "    )\n",
    "    transactions = x.get(\"transactions\", [])\n",
    "\n",
    "    if transactions:\n",
    "        # Convert to NDJSON format\n",
    "        ndjson_lines = \"\\n\".join(json.dumps(transaction) for transaction in transactions)\n",
    "        ndjson_buffer = io.StringIO(ndjson_lines)\n",
    "\n",
    "        # Upload to BigQuery, ensuring no duplicates based on transaction_id\n",
    "        thrivecart_save.start_transfer_json(\n",
    "            bq_client=bq_client,\n",
    "            file=ndjson_buffer,\n",
    "            destination_table='transactions',\n",
    "            write_options='append'\n",
    "        )\n",
    "\n",
    "    time.sleep(0.5)\n"
   ],
   "id": "9f2f011ad99e5a99",
   "outputs": [
    {
     "ename": "BadRequest",
     "evalue": "400 Provided Schema does not match Table arboreal-cat-451816-n0:thrive_cart.transactions. Field internal_subscription_id has changed type from INTEGER to STRING; reason: invalid, message: Provided Schema does not match Table arboreal-cat-451816-n0:thrive_cart.transactions. Field internal_subscription_id has changed type from INTEGER to STRING",
     "output_type": "error",
     "traceback": [
      "\u001B[0;31m---------------------------------------------------------------------------\u001B[0m",
      "\u001B[0;31mBadRequest\u001B[0m                                Traceback (most recent call last)",
      "Cell \u001B[0;32mIn[28], line 24\u001B[0m\n\u001B[1;32m     21\u001B[0m     ndjson_buffer \u001B[38;5;241m=\u001B[39m io\u001B[38;5;241m.\u001B[39mStringIO(ndjson_lines)\n\u001B[1;32m     23\u001B[0m     \u001B[38;5;66;03m# Upload to BigQuery, ensuring no duplicates based on transaction_id\u001B[39;00m\n\u001B[0;32m---> 24\u001B[0m     \u001B[43mthrivecart_save\u001B[49m\u001B[38;5;241;43m.\u001B[39;49m\u001B[43mstart_transfer_json\u001B[49m\u001B[43m(\u001B[49m\n\u001B[1;32m     25\u001B[0m \u001B[43m        \u001B[49m\u001B[43mbq_client\u001B[49m\u001B[38;5;241;43m=\u001B[39;49m\u001B[43mbq_client\u001B[49m\u001B[43m,\u001B[49m\n\u001B[1;32m     26\u001B[0m \u001B[43m        \u001B[49m\u001B[43mfile\u001B[49m\u001B[38;5;241;43m=\u001B[39;49m\u001B[43mndjson_buffer\u001B[49m\u001B[43m,\u001B[49m\n\u001B[1;32m     27\u001B[0m \u001B[43m        \u001B[49m\u001B[43mdestination_table\u001B[49m\u001B[38;5;241;43m=\u001B[39;49m\u001B[38;5;124;43m'\u001B[39;49m\u001B[38;5;124;43mtransactions\u001B[39;49m\u001B[38;5;124;43m'\u001B[39;49m\u001B[43m,\u001B[49m\n\u001B[1;32m     28\u001B[0m \u001B[43m        \u001B[49m\u001B[43mwrite_options\u001B[49m\u001B[38;5;241;43m=\u001B[39;49m\u001B[38;5;124;43m'\u001B[39;49m\u001B[38;5;124;43mappend\u001B[39;49m\u001B[38;5;124;43m'\u001B[39;49m\n\u001B[1;32m     29\u001B[0m \u001B[43m    \u001B[49m\u001B[43m)\u001B[49m\n\u001B[1;32m     31\u001B[0m time\u001B[38;5;241m.\u001B[39msleep(\u001B[38;5;241m0.5\u001B[39m)\n",
      "File \u001B[0;32m~/personal_projects/vexis_authLive/bq_transfers.py:65\u001B[0m, in \u001B[0;36mBqDataTransfers.start_transfer_json\u001B[0;34m(self, bq_client, file, destination_table, schema, write_options)\u001B[0m\n\u001B[1;32m     63\u001B[0m table_id \u001B[38;5;241m=\u001B[39m \u001B[38;5;28mself\u001B[39m\u001B[38;5;241m.\u001B[39mbq_table_id(destination_table\u001B[38;5;241m=\u001B[39mdestination_table)\n\u001B[1;32m     64\u001B[0m job \u001B[38;5;241m=\u001B[39m bq_client\u001B[38;5;241m.\u001B[39mload_table_from_file(file,  table_id, job_config\u001B[38;5;241m=\u001B[39mjob_configuration)\n\u001B[0;32m---> 65\u001B[0m \u001B[43mjob\u001B[49m\u001B[38;5;241;43m.\u001B[39;49m\u001B[43mresult\u001B[49m\u001B[43m(\u001B[49m\u001B[43m)\u001B[49m\n",
      "File \u001B[0;32m~/personal_projects/vexis_authLive/.venv/lib/python3.9/site-packages/google/cloud/bigquery/job/base.py:969\u001B[0m, in \u001B[0;36m_AsyncJob.result\u001B[0;34m(self, retry, timeout)\u001B[0m\n\u001B[1;32m    966\u001B[0m     \u001B[38;5;28mself\u001B[39m\u001B[38;5;241m.\u001B[39m_begin(retry\u001B[38;5;241m=\u001B[39mretry, timeout\u001B[38;5;241m=\u001B[39mtimeout)\n\u001B[1;32m    968\u001B[0m kwargs \u001B[38;5;241m=\u001B[39m {} \u001B[38;5;28;01mif\u001B[39;00m retry \u001B[38;5;129;01mis\u001B[39;00m DEFAULT_RETRY \u001B[38;5;28;01melse\u001B[39;00m {\u001B[38;5;124m\"\u001B[39m\u001B[38;5;124mretry\u001B[39m\u001B[38;5;124m\"\u001B[39m: retry}\n\u001B[0;32m--> 969\u001B[0m \u001B[38;5;28;01mreturn\u001B[39;00m \u001B[38;5;28;43msuper\u001B[39;49m\u001B[43m(\u001B[49m\u001B[43m_AsyncJob\u001B[49m\u001B[43m,\u001B[49m\u001B[43m \u001B[49m\u001B[38;5;28;43mself\u001B[39;49m\u001B[43m)\u001B[49m\u001B[38;5;241;43m.\u001B[39;49m\u001B[43mresult\u001B[49m\u001B[43m(\u001B[49m\u001B[43mtimeout\u001B[49m\u001B[38;5;241;43m=\u001B[39;49m\u001B[43mtimeout\u001B[49m\u001B[43m,\u001B[49m\u001B[43m \u001B[49m\u001B[38;5;241;43m*\u001B[39;49m\u001B[38;5;241;43m*\u001B[39;49m\u001B[43mkwargs\u001B[49m\u001B[43m)\u001B[49m\n",
      "File \u001B[0;32m~/personal_projects/vexis_authLive/.venv/lib/python3.9/site-packages/google/api_core/future/polling.py:261\u001B[0m, in \u001B[0;36mPollingFuture.result\u001B[0;34m(self, timeout, retry, polling)\u001B[0m\n\u001B[1;32m    256\u001B[0m \u001B[38;5;28mself\u001B[39m\u001B[38;5;241m.\u001B[39m_blocking_poll(timeout\u001B[38;5;241m=\u001B[39mtimeout, retry\u001B[38;5;241m=\u001B[39mretry, polling\u001B[38;5;241m=\u001B[39mpolling)\n\u001B[1;32m    258\u001B[0m \u001B[38;5;28;01mif\u001B[39;00m \u001B[38;5;28mself\u001B[39m\u001B[38;5;241m.\u001B[39m_exception \u001B[38;5;129;01mis\u001B[39;00m \u001B[38;5;129;01mnot\u001B[39;00m \u001B[38;5;28;01mNone\u001B[39;00m:\n\u001B[1;32m    259\u001B[0m     \u001B[38;5;66;03m# pylint: disable=raising-bad-type\u001B[39;00m\n\u001B[1;32m    260\u001B[0m     \u001B[38;5;66;03m# Pylint doesn't recognize that this is valid in this case.\u001B[39;00m\n\u001B[0;32m--> 261\u001B[0m     \u001B[38;5;28;01mraise\u001B[39;00m \u001B[38;5;28mself\u001B[39m\u001B[38;5;241m.\u001B[39m_exception\n\u001B[1;32m    263\u001B[0m \u001B[38;5;28;01mreturn\u001B[39;00m \u001B[38;5;28mself\u001B[39m\u001B[38;5;241m.\u001B[39m_result\n",
      "\u001B[0;31mBadRequest\u001B[0m: 400 Provided Schema does not match Table arboreal-cat-451816-n0:thrive_cart.transactions. Field internal_subscription_id has changed type from INTEGER to STRING; reason: invalid, message: Provided Schema does not match Table arboreal-cat-451816-n0:thrive_cart.transactions. Field internal_subscription_id has changed type from INTEGER to STRING"
     ]
    }
   ],
   "execution_count": 28
  },
  {
   "metadata": {},
   "cell_type": "code",
   "outputs": [],
   "execution_count": null,
   "source": "",
   "id": "963967d824f666a3"
  }
 ],
 "metadata": {
  "kernelspec": {
   "display_name": "Python 3",
   "language": "python",
   "name": "python3"
  },
  "language_info": {
   "codemirror_mode": {
    "name": "ipython",
    "version": 2
   },
   "file_extension": ".py",
   "mimetype": "text/x-python",
   "name": "python",
   "nbconvert_exporter": "python",
   "pygments_lexer": "ipython2",
   "version": "2.7.6"
  }
 },
 "nbformat": 4,
 "nbformat_minor": 5
}
