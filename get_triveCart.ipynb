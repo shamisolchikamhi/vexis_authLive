{
 "cells": [
  {
   "cell_type": "code",
   "id": "initial_id",
   "metadata": {
    "collapsed": true,
    "ExecuteTime": {
     "end_time": "2025-02-26T19:37:45.762965Z",
     "start_time": "2025-02-26T19:37:45.752300Z"
    }
   },
   "source": [
    "from api_request_funtions import ApiGet\n",
    "from bq_transfers import BqDataTransfers \n",
    "# from main import fetch_and_save"
   ],
   "outputs": [],
   "execution_count": 3
  },
  {
   "metadata": {
    "ExecuteTime": {
     "end_time": "2025-02-26T19:37:45.781146Z",
     "start_time": "2025-02-26T19:37:45.772801Z"
    }
   },
   "cell_type": "code",
   "source": [
    "thrivecart_get = ApiGet(http='thrivecart.com', api_key='TZ5TJYBR-FDB85IBI-0RFTB00N-VQ7ZFY2S')\n",
    "thrivecart_save = BqDataTransfers(gcp_project_id= 'arboreal-cat-451816-n0', bq_data_set = 'thrive_cart')\n",
    "bq_client = thrivecart_save.get_bq_client(\"/Users/shami/Library/Mobile Documents/com~apple~CloudDocs/Personal Projects/vexis/vexis_bq_writter.json\")"
   ],
   "id": "ae3af2ad50edf3ce",
   "outputs": [],
   "execution_count": 4
  },
  {
   "metadata": {
    "jupyter": {
     "is_executing": true
    },
    "ExecuteTime": {
     "start_time": "2025-02-26T19:37:45.795934Z"
    }
   },
   "cell_type": "code",
   "source": [
    "import json\n",
    "import io\n",
    "import time\n",
    "\n",
    "x = thrivecart_get.fetch_data(end_point=f'/api/external/transactions?page=0&perPage=1&query=&transactionType=any')\n",
    "pages = list(range(1, round(x['meta']['total'] / 100) + 1))\n",
    "for page in pages:\n",
    "    x= thrivecart_get.fetch_data(end_point=f'/api/external/transactions?page={page}&perPage=100&query=&transactionType=any')\n",
    "    ndjson_lines = \"\\n\".join(json.dumps(transaction) for transaction in x[\"transactions\"])\n",
    "    ndjson_buffer = io.StringIO(ndjson_lines)\n",
    "    thrivecart_save.start_transfer_json(bq_client=bq_client, file=ndjson_buffer,\n",
    "                                          destination_table = 'transactions', write_options='append')\n",
    "    time.sleep(0.5)  # Prevent hitting API rate limits"
   ],
   "id": "3f80c44778b0e37b",
   "outputs": [],
   "execution_count": null
  },
  {
   "metadata": {},
   "cell_type": "code",
   "outputs": [],
   "execution_count": null,
   "source": "",
   "id": "165c084ea7d069a1"
  }
 ],
 "metadata": {
  "kernelspec": {
   "display_name": "Python 3",
   "language": "python",
   "name": "python3"
  },
  "language_info": {
   "codemirror_mode": {
    "name": "ipython",
    "version": 2
   },
   "file_extension": ".py",
   "mimetype": "text/x-python",
   "name": "python",
   "nbconvert_exporter": "python",
   "pygments_lexer": "ipython2",
   "version": "2.7.6"
  }
 },
 "nbformat": 4,
 "nbformat_minor": 5
}
