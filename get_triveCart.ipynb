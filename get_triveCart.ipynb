{
 "cells": [
  {
   "cell_type": "code",
   "id": "initial_id",
   "metadata": {
    "collapsed": true,
    "ExecuteTime": {
     "end_time": "2025-03-02T14:05:07.004077Z",
     "start_time": "2025-03-02T14:05:06.429803Z"
    }
   },
   "source": [
    "import pandas as pd\n",
    "import time\n",
    "import io\n",
    "from api_request_funtions import ApiGet\n",
    "from bq_transfers import BqDataTransfers \n",
    "from main import fetch_and_save\n",
    "import json"
   ],
   "outputs": [
    {
     "name": "stderr",
     "output_type": "stream",
     "text": [
      "/Users/shami/personal_projects/vexis_authLive/.venv/lib/python3.9/site-packages/urllib3/__init__.py:35: NotOpenSSLWarning: urllib3 v2 only supports OpenSSL 1.1.1+, currently the 'ssl' module is compiled with 'LibreSSL 2.8.3'. See: https://github.com/urllib3/urllib3/issues/3020\n",
      "  warnings.warn(\n"
     ]
    }
   ],
   "execution_count": 1
  },
  {
   "metadata": {
    "ExecuteTime": {
     "end_time": "2025-03-02T14:05:08.368542Z",
     "start_time": "2025-03-02T14:05:08.364046Z"
    }
   },
   "cell_type": "code",
   "source": [
    "thrivecart_get = ApiGet(http='thrivecart.com', api_key='TZ5TJYBR-FDB85IBI-0RFTB00N-VQ7ZFY2S')\n",
    "thrivecart_save = BqDataTransfers(gcp_project_id= 'arboreal-cat-451816-n0', bq_data_set = 'thrive_cart')\n",
    "bq_client = thrivecart_save.get_bq_client(\"/Users/shami/Library/Mobile Documents/com~apple~CloudDocs/Personal Projects/vexis/vexis_bq_writter.json\")\n",
    "\n",
    "# split products"
   ],
   "id": "ae3af2ad50edf3ce",
   "outputs": [],
   "execution_count": 2
  },
  {
   "metadata": {
    "jupyter": {
     "is_executing": true
    },
    "ExecuteTime": {
     "start_time": "2025-03-02T20:22:29.844948Z"
    }
   },
   "cell_type": "code",
   "source": [
    "# def fetch_transactions(event, context):\n",
    "    # Fetch the total count of transactions from the API\n",
    "x = thrivecart_get.fetch_data(end_point=f'/api/external/transactions?page=0&perPage=0&query=&transactionType=any')\n",
    "total_records_api = x['meta']['total']\n",
    "total_records_bq = bq_client.get_table('thrive_cart.transactions').num_rows\n",
    "\n",
    "# Calculate the difference and determine the number of pages to fetch\n",
    "records_to_fetch = max(0, total_records_api - (total_records_bq))\n",
    "pages = list(range(1, (records_to_fetch // 100) + 2)) if records_to_fetch > 0 else []\n",
    "print(len(pages))\n",
    "pages = reversed(pages)\n",
    "print(pages)\n",
    "# Fetch new transactions\n",
    "\n",
    "BIGQUERY_SCHEMA = [\n",
    "    {\"name\": \"quantity\", \"type\": \"INTEGER\"},\n",
    "    {\"name\": \"item_type\", \"type\": \"STRING\"},\n",
    "    {\"name\": \"processor\", \"type\": \"STRING\"},\n",
    "    {\"name\": \"currency\", \"type\": \"STRING\"},\n",
    "    {\"name\": \"coupon\", \"type\": \"STRING\"},\n",
    "    {\"name\": \"invoice_id\", \"type\": \"INTEGER\"},\n",
    "    {\"name\": \"order_id\", \"type\": \"INTEGER\"},\n",
    "    {\"name\": \"internal_subscription_id\", \"type\": \"INTEGER\"},\n",
    "    {\"name\": \"item_pricing_option_id\", \"type\": \"INTEGER\"},\n",
    "    {\"name\": \"time\", \"type\": \"TIMESTAMP\"},\n",
    "    {\"name\": \"item_id\", \"type\": \"INTEGER\"},\n",
    "    {\n",
    "        \"name\": \"customer\",\n",
    "        \"type\": \"RECORD\",\n",
    "        \"fields\": [\n",
    "            {\"name\": \"email\", \"type\": \"STRING\"},\n",
    "            {\"name\": \"name\", \"type\": \"STRING\"}\n",
    "        ]\n",
    "    },\n",
    "    {\"name\": \"amount\", \"type\": \"INTEGER\"},\n",
    "    {\"name\": \"transaction_info\", \"type\": \"STRING\"},\n",
    "    {\"name\": \"subscription_id\", \"type\": \"STRING\"},\n",
    "    {\"name\": \"item_name\", \"type\": \"STRING\"},\n",
    "    {\"name\": \"transaction_type\", \"type\": \"STRING\"},\n",
    "    {\"name\": \"reference\", \"type\": \"STRING\"},\n",
    "    {\"name\": \"item_pricing_option_name\", \"type\": \"STRING\"},\n",
    "    {\"name\": \"date\", \"type\": \"DATE\"},\n",
    "    {\"name\": \"campaign_id\", \"type\": \"STRING\"},\n",
    "    {\"name\": \"transaction_id\", \"type\": \"STRING\"},\n",
    "    {\"name\": \"event_id\", \"type\": \"INTEGER\"},\n",
    "    {\"name\": \"base_product\", \"type\": \"INTEGER\"},\n",
    "    {\"name\": \"timestamp\", \"type\": \"INTEGER\"}\n",
    "]\n",
    "\n",
    "for page in pages:\n",
    "    x = thrivecart_get.fetch_data(\n",
    "        end_point=f'/api/external/transactions?page={page}&perPage=100&query=&transactionType=any'\n",
    "    )\n",
    "    transactions = x.get(\"transactions\", [])\n",
    "\n",
    "    if transactions:\n",
    "        # Convert to NDJSON format\n",
    "        ndjson_lines = \"\\n\".join(json.dumps(transaction) for transaction in transactions)\n",
    "        ndjson_buffer = io.StringIO(ndjson_lines)\n",
    "        try:\n",
    "            # Upload to BigQuery, ensuring no duplicates based on transaction_id\n",
    "            thrivecart_save.start_transfer_json(\n",
    "                bq_client=bq_client,\n",
    "                file=ndjson_buffer,\n",
    "                destination_table='transactions',\n",
    "                write_options='append',\n",
    "                schema=BIGQUERY_SCHEMA\n",
    "            )\n",
    "        except:\n",
    "               thrivecart_save.start_transfer_json(\n",
    "                bq_client=bq_client,\n",
    "                file=ndjson_buffer,\n",
    "                destination_table='transactions_errors',\n",
    "                write_options='append'\n",
    "            )\n",
    "\n",
    "\n",
    "    time.sleep(0.5)\n"
   ],
   "id": "9f2f011ad99e5a99",
   "outputs": [
    {
     "name": "stdout",
     "output_type": "stream",
     "text": [
      "516\n",
      "<list_reverseiterator object at 0x10a5ff3a0>\n"
     ]
    }
   ],
   "execution_count": null
  },
  {
   "metadata": {},
   "cell_type": "code",
   "outputs": [],
   "execution_count": null,
   "source": "",
   "id": "6ccce60aba1322b9"
  }
 ],
 "metadata": {
  "kernelspec": {
   "display_name": "Python 3",
   "language": "python",
   "name": "python3"
  },
  "language_info": {
   "codemirror_mode": {
    "name": "ipython",
    "version": 2
   },
   "file_extension": ".py",
   "mimetype": "text/x-python",
   "name": "python",
   "nbconvert_exporter": "python",
   "pygments_lexer": "ipython2",
   "version": "2.7.6"
  }
 },
 "nbformat": 4,
 "nbformat_minor": 5
}
