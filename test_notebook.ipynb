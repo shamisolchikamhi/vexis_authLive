{
 "cells": [
  {
   "cell_type": "code",
   "id": "initial_id",
   "metadata": {
    "collapsed": true
   },
   "source": [
    "import pandas as pd\n",
    "import time\n",
    "import io\n",
    "\n",
    "from api_request_funtions import ApiGet\n",
    "from bq_transfers import BqDataTransfers \n",
    "# from main import fetch_and_save\n",
    "import json"
   ],
   "outputs": [],
   "execution_count": null
  },
  {
   "metadata": {},
   "cell_type": "code",
   "source": [
    "thrivecart_get = ApiGet(http='thrivecart.com', api_key='TZ5TJYBR-FDB85IBI-0RFTB00N-VQ7ZFY2S')\n",
    "thrivecart_save = BqDataTransfers(gcp_project_id= 'arboreal-cat-451816-n0', bq_data_set = 'thrive_cart')\n",
    "bq_client = thrivecart_save.get_bq_client(\"/Users/shami/Library/Mobile Documents/com~apple~CloudDocs/Personal Projects/vexis/vexis_bq_writter.json\")\n",
    "\n",
    "# split products"
   ],
   "id": "ae3af2ad50edf3ce",
   "outputs": [],
   "execution_count": null
  },
  {
   "metadata": {},
   "cell_type": "code",
   "source": [
    "from api_request_funtions import ApiGetRequest\n",
    "from bq_transfers import BqDataTransfers"
   ],
   "id": "913e7b8662e54453",
   "outputs": [],
   "execution_count": null
  },
  {
   "metadata": {},
   "cell_type": "code",
   "source": [
    "def fetch_and_save_webjam(platform, end_point, dict_key, write_options, destination_table,\n",
    "                          schema = None, use_ids=[], id_col = None):\n",
    "    webjam = ApiGetRequest(domain = 'api.webinarjam.com', platform=platform, api_key='8f4a91cb-906e-448b-b5cb-de0a1854d96c')\n",
    "    webjam_save = BqDataTransfers(gcp_project_id= 'arboreal-cat-451816-n0', bq_data_set = 'webinar_jam')\n",
    "    bq_client = webjam_save.get_bq_client(\"/Users/shami/Library/Mobile Documents/com~apple~CloudDocs/Personal Projects/vexis/vexis_bq_writter.json\")\n",
    "\n",
    "    if len(use_ids) > 0:\n",
    "        x = webjam.fetch_data_id(end_point=end_point, data_details_key= \"webinar_id\", ids=use_ids)\n",
    "    else:\n",
    "        x = webjam.fetch_data(end_point=end_point)\n",
    "    df = webjam.process_reponse_df(x, dict_key=dict_key)\n",
    "    webjam_save.start_transfer_df(bq_client=bq_client, df = df,\n",
    "                                          destination_table = f'{platform}_{destination_table}', write_options=write_options, schema=schema)\n",
    "    if id_col is not None:\n",
    "        ids = df[id_col].dropna().unique()\n",
    "        return ids"
   ],
   "id": "b38997c34f59985b",
   "outputs": [],
   "execution_count": null
  },
  {
   "metadata": {},
   "cell_type": "code",
   "source": [
    "webinar_ids = fetch_and_save_webjam(platform='webinarjam', end_point='webinars', dict_key = 'webinars',\n",
    "                      write_options='overwrite', destination_table = 'webinars', id_col = 'webinar_id')\n",
    "fetch_and_save_webjam(platform='webinarjam', end_point='webinar', dict_key = 'webinar',\n",
    "                      write_options='overwrite', destination_table = 'webinar_details', use_ids=webinar_ids)"
   ],
   "id": "6c6f32bba5d8de1d",
   "outputs": [],
   "execution_count": null
  },
  {
   "metadata": {},
   "cell_type": "code",
   "source": [
    "fetch_and_save_webjam(platform='webinarjam', end_point='webinar', dict_key = 'webinar',\n",
    "                      write_options='overwrite', destination_table = 'webinar_details', use_ids=webinar_ids)"
   ],
   "id": "7a20e2ea22ec614b",
   "outputs": [],
   "execution_count": null
  },
  {
   "metadata": {},
   "cell_type": "code",
   "source": [
    "platform='webinarjam'\n",
    "end_point='webinars'\n",
    "dict_key = 'webinars'\n",
    "# write_options='overwrite'\n",
    "# destination_table = 'webinars'\n",
    "webjam = ApiGetRequest(domain = 'api.webinarjam.com', platform=platform, api_key='8f4a91cb-906e-448b-b5cb-de0a1854d96c')\n",
    "webjam_save = BqDataTransfers(gcp_project_id= 'arboreal-cat-451816-n0', bq_data_set = 'webinar_jam')\n",
    "bq_client = webjam_save.get_bq_client(\"/Users/shami/Library/Mobile Documents/com~apple~CloudDocs/Personal Projects/vexis/vexis_bq_writter.json\")\n",
    "x = webjam.fetch_data(end_point=end_point)\n",
    "df = webjam.process_reponse_df(x, dict_key=dict_key)"
   ],
   "id": "ec78bd1e373f1158",
   "outputs": [],
   "execution_count": null
  },
  {
   "metadata": {},
   "cell_type": "code",
   "source": "x\n",
   "id": "d8e6120ef495eb7a",
   "outputs": [],
   "execution_count": null
  },
  {
   "metadata": {},
   "cell_type": "code",
   "source": [
    "webinar_ids = fetch_and_save_webjam(platform='everwebinar', end_point='webinars', dict_key = 'webinars',\n",
    "                      write_options='overwrite', destination_table = 'webinars', id_col = 'webinar_id')\n",
    "fetch_and_save_webjam(platform='everwebinar', end_point='webinar', dict_key = 'webinar',\n",
    "                      write_options='overwrite', destination_table = 'webinar_details', use_ids=webinar_ids)"
   ],
   "id": "42bff49348d0a06d",
   "outputs": [],
   "execution_count": null
  },
  {
   "metadata": {},
   "cell_type": "code",
   "source": "",
   "id": "55efccdd5b313b6d",
   "outputs": [],
   "execution_count": null
  }
 ],
 "metadata": {
  "kernelspec": {
   "display_name": "Python 3",
   "language": "python",
   "name": "python3"
  },
  "language_info": {
   "codemirror_mode": {
    "name": "ipython",
    "version": 2
   },
   "file_extension": ".py",
   "mimetype": "text/x-python",
   "name": "python",
   "nbconvert_exporter": "python",
   "pygments_lexer": "ipython2",
   "version": "2.7.6"
  }
 },
 "nbformat": 4,
 "nbformat_minor": 5
}
